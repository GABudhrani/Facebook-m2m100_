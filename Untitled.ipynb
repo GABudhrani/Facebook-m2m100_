{
 "cells": [
  {
   "cell_type": "code",
   "execution_count": 3,
   "id": "df6b70fc-6886-4888-b245-d91742091653",
   "metadata": {},
   "outputs": [
    {
     "name": "stdout",
     "output_type": "stream",
     "text": [
      "--2022-07-30 22:59:10--  https://cdn-lfs.huggingface.co/facebook/m2m100-12B-avg-10-ckpt/e1fb67e0d4edea5e3235764720e1a895bc31b2ac11e820d6f21c6d5b7c1ef622?response-content-disposition=attachment%3B%20filename%3D%22pytorch_model.bin%22\n",
      "Resolving cdn-lfs.huggingface.co (cdn-lfs.huggingface.co)... 13.227.219.43, 13.227.219.4, 13.227.219.41, ...\n",
      "Connecting to cdn-lfs.huggingface.co (cdn-lfs.huggingface.co)|13.227.219.43|:443... connected.\n",
      "HTTP request sent, awaiting response... 200 OK\n",
      "Length: 47209170852 (44G) [binary/octet-stream]\n",
      "Saving to: ‘e1fb67e0d4edea5e3235764720e1a895bc31b2ac11e820d6f21c6d5b7c1ef622?response-content-disposition=attachment; filename=\"pytorch_model.bin\"’\n",
      "\n",
      "e1fb67e0d4edea5e323 100%[===================>]  43.97G  27.0MB/s    in 41m 46s \n",
      "\n",
      "2022-07-30 23:40:56 (18.0 MB/s) - ‘e1fb67e0d4edea5e3235764720e1a895bc31b2ac11e820d6f21c6d5b7c1ef622?response-content-disposition=attachment; filename=\"pytorch_model.bin\"’ saved [47209170852/47209170852]\n",
      "\n"
     ]
    }
   ],
   "source": [
    "!wget https://cdn-lfs.huggingface.co/facebook/m2m100-12B-avg-10-ckpt/e1fb67e0d4edea5e3235764720e1a895bc31b2ac11e820d6f21c6d5b7c1ef622?response-content-disposition=attachment%3B%20filename%3D%22pytorch_model.bin%22"
   ]
  },
  {
   "cell_type": "code",
   "execution_count": 2,
   "id": "a8cd568f-3c78-44d3-b073-115f747b4791",
   "metadata": {},
   "outputs": [
    {
     "name": "stdout",
     "output_type": "stream",
     "text": [
      "Sat Jul 30 22:27:48 2022       \n",
      "+-----------------------------------------------------------------------------+\n",
      "| NVIDIA-SMI 450.57       Driver Version: 450.57       CUDA Version: 11.0     |\n",
      "|-------------------------------+----------------------+----------------------+\n",
      "| GPU  Name        Persistence-M| Bus-Id        Disp.A | Volatile Uncorr. ECC |\n",
      "| Fan  Temp  Perf  Pwr:Usage/Cap|         Memory-Usage | GPU-Util  Compute M. |\n",
      "|                               |                      |               MIG M. |\n",
      "|===============================+======================+======================|\n",
      "|   0  A100-SXM4-80GB      On   | 00000000:00:07.0 Off |                    0 |\n",
      "| N/A   35C    P0    62W / 500W |      3MiB / 81252MiB |      0%      Default |\n",
      "|                               |                      |             Disabled |\n",
      "+-------------------------------+----------------------+----------------------+\n",
      "                                                                               \n",
      "+-----------------------------------------------------------------------------+\n",
      "| Processes:                                                                  |\n",
      "|  GPU   GI   CI        PID   Type   Process name                  GPU Memory |\n",
      "|        ID   ID                                                   Usage      |\n",
      "|=============================================================================|\n",
      "|  No running processes found                                                 |\n",
      "+-----------------------------------------------------------------------------+\n",
      "WARNING: infoROM is corrupted at gpu 0000:00:07.0\n"
     ]
    }
   ],
   "source": [
    "!nvidia-smi"
   ]
  },
  {
   "cell_type": "code",
   "execution_count": 4,
   "id": "9065b31f-31e1-46d8-981b-4d2f417cd943",
   "metadata": {},
   "outputs": [
    {
     "name": "stdout",
     "output_type": "stream",
     "text": [
      " 12b_avg10_chk_8_gpus.pt\n",
      " Cython-0.29.32\n",
      " Cython-0.29.32.tar.gz\n",
      " Untitled.ipynb\n",
      " apply_sentencepiece.py\n",
      " build\n",
      " checkpoints\n",
      " content\n",
      " cpkt\n",
      " data-bin_hi-hg\n",
      " data-bin_ja-en\n",
      "'e1fb67e0d4edea5e3235764720e1a895bc31b2ac11e820d6f21c6d5b7c1ef622?response-content-disposition=attachment; filename=\"pytorch_model.bin\"'\n",
      " facebook_m2m_100.ipynb\n",
      " fairseq\n",
      " fairseq.tar.gz\n",
      " hi-en\n",
      " hi-hg\n",
      " ja-en\n",
      " language_pairs_small_models.txt\n",
      " language_pairs_small_models.txt.1\n",
      " model_dict.128k.txt\n",
      " model_dict.128k.txt.1\n",
      " orig\n",
      " spm.128k.model\n",
      " spm.128k.model.1\n"
     ]
    }
   ],
   "source": []
  },
  {
   "cell_type": "code",
   "execution_count": 2,
   "id": "717b764f-1865-4ac5-9576-28c3ed124805",
   "metadata": {},
   "outputs": [],
   "source": [
    "import pandas as pd\n",
    "src=\"train.ja\"\n",
    "trg=\"train.en\"\n",
    "df = pd.read_csv(\"ja-en/\"+src, delimiter=\"\\n\",names=[\"ja\"])\n",
    "df2 = pd.read_csv(\"ja-en/\"+trg, delimiter=\"\\n\",names=[\"en\"])\n",
    "df = df.join(df2)\n",
    "df.to_csv(\"ja-en/train.csv\")"
   ]
  },
  {
   "cell_type": "code",
   "execution_count": null,
   "id": "c92778a9-36df-4df9-8e2e-79c59ff93229",
   "metadata": {},
   "outputs": [],
   "source": []
  }
 ],
 "metadata": {
  "kernelspec": {
   "display_name": "Python 3 (ipykernel)",
   "language": "python",
   "name": "python3"
  },
  "language_info": {
   "codemirror_mode": {
    "name": "ipython",
    "version": 3
   },
   "file_extension": ".py",
   "mimetype": "text/x-python",
   "name": "python",
   "nbconvert_exporter": "python",
   "pygments_lexer": "ipython3",
   "version": "3.7.13"
  }
 },
 "nbformat": 4,
 "nbformat_minor": 5
}
